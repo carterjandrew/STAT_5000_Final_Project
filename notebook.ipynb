{
 "cells": [
  {
   "cell_type": "markdown",
   "metadata": {},
   "source": [
    "# Motivation:"
   ]
  },
  {
   "cell_type": "markdown",
   "metadata": {},
   "source": [
    "For my CSCI capstone project I am collaborating to develop a moible application that employes computer vision to preform object detection and ideally segmentation on ultrasound images. The objective is to help people in medically disparaged places use the powerful but difficult technology. Some of the limitations imposed on this project were the lack of readily availible electricity and modern computing hardware. Because of this our scope for model complexity is limited to reserve enery draw on phones.\n",
    "\n",
    "Deep covolutional neural networks, like we have chosen to employ, trade sphicsticated results for large computation time and lack of interpretability. While other methods of statistical analysis or machine learning would struggle to capsture the complexity of the data and underfit they have appeal because of their preformant nature. \n"
   ]
  },
  {
   "cell_type": "markdown",
   "metadata": {},
   "source": [
    "## Problems I will be trying to solve"
   ]
  },
  {
   "cell_type": "markdown",
   "metadata": {},
   "source": [
    "For my final project I will be preforming a exporatory analysis on a dataset of ultrasound images with two goals in mind(along with their relevant sub-goals):\n",
    "1. Classify images using non-neural network approaches\n",
    "\t1. Classify images based on the body part being scanned\n",
    "\t2. Classify images as quality scans\n",
    "2. Search for statistical methods to help assist neural networks classification accuracy\n",
    "\t1. Detect features such as scan depth, general scan quality\n",
    "\t2. Preforming pre-processing on scans\n",
    "\t3. Find correlations between general image features and scan types\n",
    "\t4. Detect anomalies such as a incorrectly preformed scan"
   ]
  },
  {
   "cell_type": "markdown",
   "metadata": {},
   "source": [
    "# Imports and notebook setup"
   ]
  },
  {
   "cell_type": "markdown",
   "metadata": {},
   "source": [
    "We will be using industry standard data analsis and machine learning tools to do our exploration. "
   ]
  },
  {
   "cell_type": "markdown",
   "metadata": {},
   "source": [
    "## Install and import libraries"
   ]
  },
  {
   "cell_type": "code",
   "execution_count": 16,
   "metadata": {},
   "outputs": [
    {
     "name": "stdout",
     "output_type": "stream",
     "text": [
      "Looking in indexes: https://pypi.org/simple, https://pypi.ngc.nvidia.com\n",
      "Requirement already satisfied: gdown in /home/carter/.conda/envs/statfinal/lib/python3.12/site-packages (from -r requirements.txt (line 1)) (4.7.1)\n",
      "Requirement already satisfied: pandas in /home/carter/.conda/envs/statfinal/lib/python3.12/site-packages (from -r requirements.txt (line 2)) (2.1.3)\n",
      "Requirement already satisfied: numpy in /home/carter/.conda/envs/statfinal/lib/python3.12/site-packages (from -r requirements.txt (line 3)) (1.26.2)\n",
      "Requirement already satisfied: scikit-learn in /home/carter/.conda/envs/statfinal/lib/python3.12/site-packages (from -r requirements.txt (line 4)) (1.3.2)\n",
      "Requirement already satisfied: opencv-python in /home/carter/.conda/envs/statfinal/lib/python3.12/site-packages (from -r requirements.txt (line 5)) (4.8.1.78)\n",
      "Requirement already satisfied: matplotlib in /home/carter/.conda/envs/statfinal/lib/python3.12/site-packages (from -r requirements.txt (line 6)) (3.8.2)\n",
      "Requirement already satisfied: filelock in /home/carter/.conda/envs/statfinal/lib/python3.12/site-packages (from gdown->-r requirements.txt (line 1)) (3.13.1)\n",
      "Requirement already satisfied: requests[socks] in /home/carter/.conda/envs/statfinal/lib/python3.12/site-packages (from gdown->-r requirements.txt (line 1)) (2.31.0)\n",
      "Requirement already satisfied: six in /home/carter/.conda/envs/statfinal/lib/python3.12/site-packages (from gdown->-r requirements.txt (line 1)) (1.16.0)\n",
      "Requirement already satisfied: tqdm in /home/carter/.conda/envs/statfinal/lib/python3.12/site-packages (from gdown->-r requirements.txt (line 1)) (4.66.1)\n",
      "Requirement already satisfied: beautifulsoup4 in /home/carter/.conda/envs/statfinal/lib/python3.12/site-packages (from gdown->-r requirements.txt (line 1)) (4.12.2)\n",
      "Requirement already satisfied: python-dateutil>=2.8.2 in /home/carter/.conda/envs/statfinal/lib/python3.12/site-packages (from pandas->-r requirements.txt (line 2)) (2.8.2)\n",
      "Requirement already satisfied: pytz>=2020.1 in /home/carter/.conda/envs/statfinal/lib/python3.12/site-packages (from pandas->-r requirements.txt (line 2)) (2023.3.post1)\n",
      "Requirement already satisfied: tzdata>=2022.1 in /home/carter/.conda/envs/statfinal/lib/python3.12/site-packages (from pandas->-r requirements.txt (line 2)) (2023.3)\n",
      "Requirement already satisfied: scipy>=1.5.0 in /home/carter/.conda/envs/statfinal/lib/python3.12/site-packages (from scikit-learn->-r requirements.txt (line 4)) (1.11.4)\n",
      "Requirement already satisfied: joblib>=1.1.1 in /home/carter/.conda/envs/statfinal/lib/python3.12/site-packages (from scikit-learn->-r requirements.txt (line 4)) (1.3.2)\n",
      "Requirement already satisfied: threadpoolctl>=2.0.0 in /home/carter/.conda/envs/statfinal/lib/python3.12/site-packages (from scikit-learn->-r requirements.txt (line 4)) (3.2.0)\n",
      "Requirement already satisfied: contourpy>=1.0.1 in /home/carter/.conda/envs/statfinal/lib/python3.12/site-packages (from matplotlib->-r requirements.txt (line 6)) (1.2.0)\n",
      "Requirement already satisfied: cycler>=0.10 in /home/carter/.conda/envs/statfinal/lib/python3.12/site-packages (from matplotlib->-r requirements.txt (line 6)) (0.12.1)\n",
      "Requirement already satisfied: fonttools>=4.22.0 in /home/carter/.conda/envs/statfinal/lib/python3.12/site-packages (from matplotlib->-r requirements.txt (line 6)) (4.46.0)\n",
      "Requirement already satisfied: kiwisolver>=1.3.1 in /home/carter/.conda/envs/statfinal/lib/python3.12/site-packages (from matplotlib->-r requirements.txt (line 6)) (1.4.5)\n",
      "Requirement already satisfied: packaging>=20.0 in /home/carter/.conda/envs/statfinal/lib/python3.12/site-packages (from matplotlib->-r requirements.txt (line 6)) (23.2)\n",
      "Requirement already satisfied: pillow>=8 in /home/carter/.conda/envs/statfinal/lib/python3.12/site-packages (from matplotlib->-r requirements.txt (line 6)) (10.1.0)\n",
      "Requirement already satisfied: pyparsing>=2.3.1 in /home/carter/.conda/envs/statfinal/lib/python3.12/site-packages (from matplotlib->-r requirements.txt (line 6)) (3.1.1)\n",
      "Requirement already satisfied: soupsieve>1.2 in /home/carter/.conda/envs/statfinal/lib/python3.12/site-packages (from beautifulsoup4->gdown->-r requirements.txt (line 1)) (2.5)\n",
      "Requirement already satisfied: charset-normalizer<4,>=2 in /home/carter/.conda/envs/statfinal/lib/python3.12/site-packages (from requests[socks]->gdown->-r requirements.txt (line 1)) (3.3.2)\n",
      "Requirement already satisfied: idna<4,>=2.5 in /home/carter/.conda/envs/statfinal/lib/python3.12/site-packages (from requests[socks]->gdown->-r requirements.txt (line 1)) (3.6)\n",
      "Requirement already satisfied: urllib3<3,>=1.21.1 in /home/carter/.conda/envs/statfinal/lib/python3.12/site-packages (from requests[socks]->gdown->-r requirements.txt (line 1)) (2.1.0)\n",
      "Requirement already satisfied: certifi>=2017.4.17 in /home/carter/.conda/envs/statfinal/lib/python3.12/site-packages (from requests[socks]->gdown->-r requirements.txt (line 1)) (2023.11.17)\n",
      "Requirement already satisfied: PySocks!=1.5.7,>=1.5.6 in /home/carter/.conda/envs/statfinal/lib/python3.12/site-packages (from requests[socks]->gdown->-r requirements.txt (line 1)) (1.7.1)\n"
     ]
    }
   ],
   "source": [
    "! pip install -r requirements.txt"
   ]
  },
  {
   "cell_type": "code",
   "execution_count": 17,
   "metadata": {},
   "outputs": [],
   "source": [
    "import os\n",
    "import pandas as pd\n",
    "import numpy as np\n",
    "import sklearn\n",
    "import matplotlib.pyplot as plt\n",
    "import cv2\n",
    "from IPython.display import display, Markdown, Latex, Image"
   ]
  },
  {
   "cell_type": "markdown",
   "metadata": {},
   "source": [
    "## Dataset Construction"
   ]
  },
  {
   "cell_type": "markdown",
   "metadata": {},
   "source": [
    "### Downloading Dataset"
   ]
  },
  {
   "cell_type": "code",
   "execution_count": 3,
   "metadata": {},
   "outputs": [],
   "source": [
    "if not os.path.exists('data'):\n",
    "    ! gdown --id 1zefZInevopumI-VdX6r7Bj-6pj_WILrr\n",
    "    ! unzip Butte.zip\n",
    "    ! mv Butte data\n",
    "    ! rm -f Butte.zip"
   ]
  },
  {
   "cell_type": "markdown",
   "metadata": {},
   "source": [
    "### Unpacking Labels"
   ]
  },
  {
   "cell_type": "code",
   "execution_count": 4,
   "metadata": {},
   "outputs": [
    {
     "data": {
      "text/plain": [
       "['Reg-Normal Lung_Example 2_mp4,11',\n",
       " 'Reg-Normal Lung A lines_mp4,11',\n",
       " 'Cov-Irregular Pleural Line_Example 2_mp4,12',\n",
       " 'Cov-Irregular Pleura and Coalescent B-lines_mp4,12',\n",
       " 'Cov-Irregular Pleura with Multiple B lines_mp4,12',\n",
       " 'Cov-Irregular Pleural Line_mp4,12',\n",
       " 'Cov-Irregular Pleura with Confluent B-lines_mp4,12',\n",
       " 'Cov-Irregular Pleura with Trace Effusion_mp4,12',\n",
       " 'Cov-Cardiomyopathy_mp4,12',\n",
       " 'Cov-Confluent B lines_Example 2_mp4,12',\n",
       " 'Cov-Patchy B lines with Sparing_mp4,12',\n",
       " 'Cov-Coalescing B lines_mp4,12',\n",
       " 'Cov-Confluent B lines_mp4,12',\n",
       " 'Cov-Skip Lesion_mp4,12',\n",
       " 'Cov-Subpleural Basal Consolidation_mp4,12',\n",
       " 'Cov-Consolidation_Example 5_mp4,12',\n",
       " 'Cov-Subpleural Basal Consolidation_Example 2_mp4,12',\n",
       " 'Cov-Consolidation_Example 2_mp4,12',\n",
       " 'Cov-Consolidation_Example 4_mp4,12',\n",
       " 'Cov-Consolidation_mp4,12',\n",
       " 'Cov-Consolidation_Example 3_mp4,12',\n",
       " 'Cov-Consolidation with Air Bronchograms_mp4,12']"
      ]
     },
     "execution_count": 4,
     "metadata": {},
     "output_type": "execute_result"
    }
   ],
   "source": [
    "labels = []\n",
    "with open('./data/all_list.txt') as file:\n",
    "    labels = file.read().splitlines()\n",
    "labels[:]"
   ]
  },
  {
   "cell_type": "code",
   "execution_count": 5,
   "metadata": {},
   "outputs": [
    {
     "data": {
      "text/plain": [
       "['Reg-Normal Lung',\n",
       " 'Reg-Normal Lung A lines',\n",
       " 'Cov-Irregular Pleural Line',\n",
       " 'Cov-Irregular Pleura and Coalescent B-lines',\n",
       " 'Cov-Irregular Pleura with Multiple B lines',\n",
       " 'Cov-Irregular Pleural Line',\n",
       " 'Cov-Irregular Pleura with Confluent B-lines',\n",
       " 'Cov-Irregular Pleura with Trace Effusion',\n",
       " 'Cov-Cardiomyopathy',\n",
       " 'Cov-Confluent B lines',\n",
       " 'Cov-Patchy B lines with Sparing',\n",
       " 'Cov-Coalescing B lines',\n",
       " 'Cov-Confluent B lines',\n",
       " 'Cov-Skip Lesion',\n",
       " 'Cov-Subpleural Basal Consolidation',\n",
       " 'Cov-Consolidation',\n",
       " 'Cov-Subpleural Basal Consolidation',\n",
       " 'Cov-Consolidation',\n",
       " 'Cov-Consolidation',\n",
       " 'Cov-Consolidation',\n",
       " 'Cov-Consolidation',\n",
       " 'Cov-Consolidation with Air Bronchograms']"
      ]
     },
     "execution_count": 5,
     "metadata": {},
     "output_type": "execute_result"
    }
   ],
   "source": [
    "labels = [label.split('_')[0] for label in labels]\n",
    "labels[:]"
   ]
  },
  {
   "cell_type": "code",
   "execution_count": 6,
   "metadata": {},
   "outputs": [
    {
     "data": {
      "text/plain": [
       "['Cov-Irregular Pleural Line',\n",
       " 'Cov-Patchy B lines with Sparing',\n",
       " 'Cov-Irregular Pleura and Coalescent B-lines',\n",
       " 'Cov-Cardiomyopathy',\n",
       " 'Cov-Subpleural Basal Consolidation',\n",
       " 'Cov-Irregular Pleura with Trace Effusion',\n",
       " 'Cov-Consolidation with Air Bronchograms',\n",
       " 'Reg-Normal Lung A lines',\n",
       " 'Cov-Coalescing B lines',\n",
       " 'Cov-Irregular Pleura with Multiple B lines',\n",
       " 'Cov-Consolidation',\n",
       " 'Cov-Irregular Pleura with Confluent B-lines',\n",
       " 'Cov-Confluent B lines',\n",
       " 'Reg-Normal Lung',\n",
       " 'Cov-Skip Lesion']"
      ]
     },
     "execution_count": 6,
     "metadata": {},
     "output_type": "execute_result"
    }
   ],
   "source": [
    "labels = list(set(labels))\n",
    "labels[:]"
   ]
  },
  {
   "cell_type": "markdown",
   "metadata": {},
   "source": [
    "### Constructing Data Frame"
   ]
  },
  {
   "cell_type": "code",
   "execution_count": 7,
   "metadata": {},
   "outputs": [
    {
     "name": "stdout",
     "output_type": "stream",
     "text": [
      "\u001b[01;34mdata\u001b[0m\n",
      "├── \u001b[00mall_list.txt\u001b[0m\n",
      "├── \u001b[01;34mCov-Cardiomyopathy_mp4\u001b[0m\n",
      "├── \u001b[01;34mCov-Coalescing B lines_mp4\u001b[0m\n",
      "├── \u001b[01;34mCov-Confluent B lines_Example 2_mp4\u001b[0m\n",
      "├── \u001b[01;34mCov-Confluent B lines_mp4\u001b[0m\n",
      "├── \u001b[01;34mCov-Consolidation_Example 2_mp4\u001b[0m\n",
      "├── \u001b[01;34mCov-Consolidation_Example 3_mp4\u001b[0m\n",
      "├── \u001b[01;34mCov-Consolidation_Example 4_mp4\u001b[0m\n",
      "├── \u001b[01;34mCov-Consolidation_Example 5_mp4\u001b[0m\n",
      "├── \u001b[01;34mCov-Consolidation_mp4\u001b[0m\n",
      "├── \u001b[01;34mCov-Consolidation with Air Bronchograms_mp4\u001b[0m\n",
      "├── \u001b[01;34mCov-Irregular Pleura and Coalescent B-lines_mp4\u001b[0m\n",
      "├── \u001b[01;34mCov-Irregular Pleural Line_Example 2_mp4\u001b[0m\n",
      "├── \u001b[01;34mCov-Irregular Pleural Line_mp4\u001b[0m\n",
      "├── \u001b[01;34mCov-Irregular Pleura with Confluent B-lines_mp4\u001b[0m\n",
      "├── \u001b[01;34mCov-Irregular Pleura with Multiple B lines_mp4\u001b[0m\n",
      "├── \u001b[01;34mCov-Irregular Pleura with Trace Effusion_mp4\u001b[0m\n",
      "├── \u001b[01;34mCov-Patchy B lines with Sparing_mp4\u001b[0m\n",
      "├── \u001b[01;34mCov-Skip Lesion_mp4\u001b[0m\n",
      "├── \u001b[01;34mCov-Subpleural Basal Consolidation_Example 2_mp4\u001b[0m\n",
      "├── \u001b[01;34mCov-Subpleural Basal Consolidation_mp4\u001b[0m\n",
      "├── \u001b[01;34mReg-Normal Lung A lines_mp4\u001b[0m\n",
      "└── \u001b[01;34mReg-Normal Lung_Example 2_mp4\u001b[0m\n",
      "\n",
      "23 directories, 1 file\n"
     ]
    }
   ],
   "source": [
    "! tree -L 1 data"
   ]
  },
  {
   "cell_type": "code",
   "execution_count": 8,
   "metadata": {},
   "outputs": [
    {
     "data": {
      "text/plain": [
       "['Cov-Skip Lesion_mp4',\n",
       " 'Cov-Subpleural Basal Consolidation_mp4',\n",
       " 'Cov-Subpleural Basal Consolidation_Example 2_mp4',\n",
       " 'Cov-Consolidation_Example 5_mp4',\n",
       " 'Cov-Irregular Pleura with Trace Effusion_mp4',\n",
       " 'Cov-Irregular Pleural Line_Example 2_mp4',\n",
       " 'Cov-Consolidation with Air Bronchograms_mp4',\n",
       " 'Cov-Confluent B lines_mp4',\n",
       " 'Cov-Irregular Pleural Line_mp4',\n",
       " 'Reg-Normal Lung A lines_mp4',\n",
       " 'Cov-Irregular Pleura with Multiple B lines_mp4',\n",
       " 'Cov-Irregular Pleura with Confluent B-lines_mp4',\n",
       " 'Cov-Patchy B lines with Sparing_mp4',\n",
       " 'Cov-Confluent B lines_Example 2_mp4',\n",
       " 'Cov-Consolidation_Example 4_mp4',\n",
       " 'Cov-Consolidation_Example 2_mp4',\n",
       " 'Cov-Consolidation_Example 3_mp4',\n",
       " 'Reg-Normal Lung_Example 2_mp4',\n",
       " 'Cov-Cardiomyopathy_mp4',\n",
       " 'Cov-Coalescing B lines_mp4',\n",
       " 'Cov-Irregular Pleura and Coalescent B-lines_mp4',\n",
       " 'Cov-Consolidation_mp4']"
      ]
     },
     "execution_count": 8,
     "metadata": {},
     "output_type": "execute_result"
    }
   ],
   "source": [
    "videos = os.listdir('./data/')\n",
    "videos.remove('all_list.txt')\n",
    "videos[:]"
   ]
  },
  {
   "cell_type": "code",
   "execution_count": 9,
   "metadata": {},
   "outputs": [],
   "source": [
    "df = [[\"Label\", \"Image\"]]\n",
    "for video in videos:\n",
    "    label = video.split('_')[0]\n",
    "    for image in os.listdir('./data/' + video):\n",
    "        df.append([label, cv2.imread('./data/' + video + '/' + image)])\n",
    "df = pd.DataFrame(df[1:], columns=df[0])"
   ]
  },
  {
   "cell_type": "markdown",
   "metadata": {},
   "source": [
    "# Data Exporation"
   ]
  },
  {
   "cell_type": "markdown",
   "metadata": {},
   "source": [
    "## Interpreting Data Objects"
   ]
  },
  {
   "cell_type": "markdown",
   "metadata": {},
   "source": [
    "### General"
   ]
  },
  {
   "cell_type": "code",
   "execution_count": 10,
   "metadata": {},
   "outputs": [
    {
     "data": {
      "text/markdown": [
       "#### General Data Information"
      ],
      "text/plain": [
       "<IPython.core.display.Markdown object>"
      ]
     },
     "metadata": {},
     "output_type": "display_data"
    },
    {
     "name": "stdout",
     "output_type": "stream",
     "text": [
      "<class 'pandas.core.frame.DataFrame'>\n",
      "RangeIndex: 1533 entries, 0 to 1532\n",
      "Data columns (total 2 columns):\n",
      " #   Column  Non-Null Count  Dtype \n",
      "---  ------  --------------  ----- \n",
      " 0   Label   1533 non-null   object\n",
      " 1   Image   1533 non-null   object\n",
      "dtypes: object(2)\n",
      "memory usage: 24.1+ KB\n"
     ]
    },
    {
     "data": {
      "text/plain": [
       "None"
      ]
     },
     "metadata": {},
     "output_type": "display_data"
    },
    {
     "data": {
      "text/markdown": [
       "#### I'm not printing a detailed description because it would take forever to run over our images"
      ],
      "text/plain": [
       "<IPython.core.display.Markdown object>"
      ]
     },
     "metadata": {},
     "output_type": "display_data"
    }
   ],
   "source": [
    "display(Markdown(\"#### General Data Information\"))\n",
    "display(df.info())\n",
    "display(Markdown('#### I\\'m not printing a detailed description because it would take forever to run over our images'))"
   ]
  },
  {
   "cell_type": "markdown",
   "metadata": {},
   "source": [
    "### Labels"
   ]
  },
  {
   "cell_type": "code",
   "execution_count": 22,
   "metadata": {},
   "outputs": [
    {
     "data": {
      "text/markdown": [
       "#### General Information"
      ],
      "text/plain": [
       "<IPython.core.display.Markdown object>"
      ]
     },
     "metadata": {},
     "output_type": "display_data"
    },
    {
     "data": {
      "text/plain": [
       "count                  1533\n",
       "unique                   15\n",
       "top       Cov-Consolidation\n",
       "freq                    391\n",
       "Name: Label, dtype: object"
      ]
     },
     "metadata": {},
     "output_type": "display_data"
    },
    {
     "data": {
      "image/png": "[encoded data removed]",
      "text/plain": [
       "<Figure size 640x480 with 1 Axes>"
      ]
     },
     "metadata": {},
     "output_type": "display_data"
    }
   ],
   "source": [
    "display(Markdown(\"#### General Information\"))\n",
    "display(df[\"Label\"].describe())\n",
    "\n",
    "label_counts = df['Label'].value_counts()\n",
    "plt.barh(label_counts.index, label_counts.values)\n",
    "plt.ylabel('Scan Area/ Symptom')\n",
    "plt.xlabel('Frequency')\n",
    "plt.title(\"Frequencies of Image Labels in the UV-4 Dataset\")\n",
    "plt.show()"
   ]
  }
 ],
 "metadata": {
  "kernelspec": {
   "display_name": "statfinal",
   "language": "python",
   "name": "python3"
  },
  "language_info": {
   "codemirror_mode": {
    "name": "ipython",
    "version": 3
   },
   "file_extension": ".py",
   "mimetype": "text/x-python",
   "name": "python",
   "nbconvert_exporter": "python",
   "pygments_lexer": "ipython3",
   "version": "3.12.0"
  }
 },
 "nbformat": 4,
 "nbformat_minor": 2
}
